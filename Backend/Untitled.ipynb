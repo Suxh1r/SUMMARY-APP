{
 "cells": [
  {
   "cell_type": "code",
   "execution_count": 1,
   "metadata": {
    "tags": []
   },
   "outputs": [],
   "source": [
    "from summarizer import Summarizer\n",
    "\n",
    "body = 'Text body that you want to summarize with BERT'\n",
    "body2 = 'Something else you want to summarize with BERT'\n",
    "model = Summarizer()\n",
    "model(body)\n",
    "model(body2)"
   ]
  },
  {
   "cell_type": "code",
   "execution_count": 2,
   "metadata": {},
   "outputs": [],
   "source": [
    "text = \"\"\"Anthony Fauci has told all states it’s time to stop allowing any exemptions to social-distancing guidelines, and warned that forcing people to stay home across the nation is the “only thing we have” in the federal government’s arsenal to fight back against the coronavirus pandemic.\n",
    "\n",
    "Appearing on NBC’s Today show on Thursday morning, the director of the National Institute of Allergy and Infectious Diseases, stopped just short of telling President Donald Trump to order a national stay-at-home order at the federal level, saying states are still able to make their own rules.\n",
    "\n",
    "But, asked about state-level exemptions to distancing rules—such as some religious services in Florida, florists in New Hampshire, and hair salons and golf courses in Arizona—Fauci responded, “When you see things like some of those exemptions—I can’t make any official proclamations here—but I can say [to] really seriously consider [if] those exemptions [are] appropriate when you think about what’s going on. I urge people at the leadership at the state level to really take a close look at those kinds of decisions.”\n",
    "\n",
    "Fauci went on to urge people to stick to the rules, saying, “I know it’s difficult, but we’re having a lot of suffering, a lot of death. This is inconvenient from an economic and a personal standpoint, but we just have to do it. That is our major weapon against this virus right now. We don’t have a vaccine that’s deployable. This is the only thing we have.”\n",
    "\n",
    "Asked specifically by host Savannah Guthrie if it was time for Trump to tell all American citizens to stay at home via a federal order, Fauci responded, “You have a point there, Savannah. It’s one of those things that in our country there still is that issue of central government versus the ability and the right of a state to make their own decision.”\n",
    "\n",
    "Fauci was also asked about reports that threats against him have prompted the federal government to assign extra security personnel to him. Right-wing commentators have fixated on Fauci for repeatedly deviating from the President Trump’s party line on the virus, which has reportedly led to threats as well as all the praise and adulation he’s also received.\n",
    "\n",
    "Asked if he felt safe, he told Today, “I’ve chosen this life, I know what it is, there are things about it that sometimes are disturbing. But you just focus on the job you have to do and just put all that other stuff aside and try as best as possible not to pay attention to it. We have a really, really, very, very difficult situation ahead of us. All that other stuff is secondary.”\"\"\""
   ]
  },
  {
   "cell_type": "code",
   "execution_count": 3,
   "metadata": {},
   "outputs": [
    {
     "data": {
      "text/plain": [
       "'Something else you want to summarize with BERT'"
      ]
     },
     "execution_count": 3,
     "metadata": {},
     "output_type": "execute_result"
    }
   ],
   "source": [
    "body = 'Text body that you want to summarize with BERT'\n",
    "body2 = 'Something else you want to summarize with BERT'\n",
    "model = Summarizer()\n",
    "model(body)\n",
    "model(body2)"
   ]
  },
  {
   "cell_type": "code",
   "execution_count": 4,
   "metadata": {},
   "outputs": [],
   "source": [
    "# result = model(text, ratio=0.2)  # Specified with ratio\n",
    "result = model(text)  # Will return 3 sentences "
   ]
  },
  {
   "cell_type": "code",
   "execution_count": 5,
   "metadata": {},
   "outputs": [
    {
     "data": {
      "text/plain": [
       "'Anthony Fauci has told all states it’s time to stop allowing any exemptions to social-distancing guidelines, and warned that forcing people to stay home across the nation is the “only thing we have” in the federal government’s arsenal to fight back against the coronavirus pandemic. That is our major weapon against this virus right now. We don’t have a vaccine that’s deployable.'"
      ]
     },
     "execution_count": 5,
     "metadata": {},
     "output_type": "execute_result"
    }
   ],
   "source": [
    "result"
   ]
  },
  {
   "cell_type": "code",
   "execution_count": 6,
   "metadata": {},
   "outputs": [],
   "source": [
    "text2 = \"\"\" Take another look at the chapter-opening image. The Whirlpool Galaxy contains billions of individual stars as well as huge clouds of gas and dust. Its companion galaxy is also visible to the right. This pair of galaxies lies a staggering billion trillion miles (1.4×1021mi) from our own galaxy (which is called the Milky Way). The stars and planets that make up the Whirlpool Galaxy might seem to be the furthest thing from most people’s everyday lives, but the Whirlpool is a great starting point to think about the forces that hold the universe together. The forces that cause the Whirlpool Galaxy to act as it does are thought to be the same forces we contend with here on Earth, whether we are planning to send a rocket into space or simply planning to raise the walls for a new home. The gravity that causes the stars of the Whirlpool Galaxy to rotate and revolve is thought to be the same as what causes water to flow over hydroelectric dams here on Earth. When you look up at the stars, realize the forces out there are the same as the ones here on Earth. Through a study of physics, you may gain a greater understanding of the interconnectedness of everything we can see and know in this universe.\n",
    "\n",
    "Think, now, about all the technological devices you use on a regular basis. Computers, smartphones, global positioning systems (GPSs), MP3 players, and satellite radio might come to mind. Then, think about the most exciting modern technologies you have heard about in the news, such as trains that levitate above tracks, “invisibility cloaks” that bend light around them, and microscopic robots that fight cancer cells in our bodies. All these groundbreaking advances, commonplace or unbelievable, rely on the principles of physics. Aside from playing a significant role in technology, professionals such as engineers, pilots, physicians, physical therapists, electricians, and computer programmers apply physics concepts in their daily work. For example, a pilot must understand how wind forces affect a flight path; a physical therapist must understand how the muscles in the body experience forces as they move and bend. As you will learn in this text, the principles of physics are propelling new, exciting technologies, and these principles are applied in a wide range of careers.\n",
    "\n",
    "The underlying order of nature makes science in general, and physics in particular, interesting and enjoyable to study. For example, what do a bag of chips and a car battery have in common? Both contain energy that can be converted to other forms. The law of conservation of energy (which says that energy can change form but is never lost) ties together such topics as food calories, batteries, heat, light, and watch springs. Understanding this law makes it easier to learn about the various forms energy takes and how they relate to one another. Apparently unrelated topics are connected through broadly applicable physical laws, permitting an understanding beyond just the memorization of lists of facts.\n",
    "\n",
    "Science consists of theories and laws that are the general truths of nature, as well as the body of knowledge they encompass. Scientists are continuously trying to expand this body of knowledge and to perfect the expression of the laws that describe it. Physics, which comes from the Greek phúsis, meaning “nature,” is concerned with describing the interactions of energy, matter, space, and time to uncover the fundamental mechanisms that underlie every phenomenon. This concern for describing the basic phenomena in nature essentially defines the scope of physics.\n",
    "\n",
    "Physics aims to understand the world around us at the most basic level. It emphasizes the use of a small number of quantitative laws to do this, which can be useful to other fields pushing the performance boundaries of existing technologies. Consider a smartphone (Figure 1.2). Physics describes how electricity interacts with the various circuits inside the device. This knowledge helps engineers select the appropriate materials and circuit layout when building a smartphone. Knowledge of the physics underlying these devices is required to shrink their size or increase their processing speed. Or, think about a GPS. Physics describes the relationship between the speed of an object, the distance over which it travels, and the time it takes to travel that distance. When you use a GPS in a vehicle, it relies on physics equations to determine the travel time from one location to another.\n",
    "\n",
    "\"\"\""
   ]
  },
  {
   "cell_type": "code",
   "execution_count": 7,
   "metadata": {},
   "outputs": [],
   "source": [
    "result = model(text2)"
   ]
  },
  {
   "cell_type": "code",
   "execution_count": 8,
   "metadata": {},
   "outputs": [
    {
     "data": {
      "text/plain": [
       "'Take another look at the chapter-opening image. The stars and planets that make up the Whirlpool Galaxy might seem to be the furthest thing from most people’s everyday lives, but the Whirlpool is a great starting point to think about the forces that hold the universe together. For example, a pilot must understand how wind forces affect a flight path; a physical therapist must understand how the muscles in the body experience forces as they move and bend. For example, what do a bag of chips and a car battery have in common? This concern for describing the basic phenomena in nature essentially defines the scope of physics. Physics describes how electricity interacts with the various circuits inside the device. When you use a GPS in a vehicle, it relies on physics equations to determine the travel time from one location to another.'"
      ]
     },
     "execution_count": 8,
     "metadata": {},
     "output_type": "execute_result"
    }
   ],
   "source": [
    "result"
   ]
  },
  {
   "cell_type": "code",
   "execution_count": 26,
   "metadata": {},
   "outputs": [],
   "source": [
    "latex = \"\\int_{{\\,a}}^{{\\,b}}{{u\\,dv}} = \\left. {uv} \\right|_a^b - \\int_{{\\,a}}^{{\\,b}}{{v\\,du}}\""
   ]
  },
  {
   "cell_type": "code",
   "execution_count": 25,
   "metadata": {},
   "outputs": [],
   "source": [
    "from pylatexenc.latex2text import LatexNodes2Text"
   ]
  },
  {
   "cell_type": "code",
   "execution_count": 29,
   "metadata": {},
   "outputs": [
    {
     "name": "stdout",
     "output_type": "stream",
     "text": [
      "ight|_a^b - ∫_ a^ bv du\n"
     ]
    }
   ],
   "source": [
    "print(LatexNodes2Text().latex_to_text(latex))"
   ]
  },
  {
   "cell_type": "code",
   "execution_count": 30,
   "metadata": {},
   "outputs": [
    {
     "name": "stdout",
     "output_type": "stream",
     "text": [
      "Take another look at the chapter-opening image. The stars and planets that make up the Whirlpool Galaxy might seem to be the furthest thing from most people’s everyday lives, but the Whirlpool is a great starting point to think about the forces that hold the universe together. For example, a pilot must understand how wind forces affect a flight path; a physical therapist must understand how the muscles in the body experience forces as they move and bend. For example, what do a bag of chips and a car battery have in common? This concern for describing the basic phenomena in nature essentially defines the scope of physics. Physics describes how electricity interacts with the various circuits inside the device. When you use a GPS in a vehicle, it relies on physics equations to determine the travel time from one location to another.\n"
     ]
    }
   ],
   "source": [
    "print(result)"
   ]
  },
  {
   "cell_type": "code",
   "execution_count": 9,
   "metadata": {},
   "outputs": [
    {
     "name": "stdout",
     "output_type": "stream",
     "text": [
      "[LabCleanApp] Cleaning /home/zzoyelam/anaconda3/share/jupyter/lab...\n",
      "[LabCleanApp] Removing staging...\n",
      "[LabCleanApp] Success!\n"
     ]
    }
   ],
   "source": [
    "!jupyter lab clean"
   ]
  },
  {
   "cell_type": "code",
   "execution_count": 10,
   "metadata": {},
   "outputs": [
    {
     "name": "stdout",
     "output_type": "stream",
     "text": [
      "[LabBuildApp] JupyterLab 2.1.4\n",
      "[LabBuildApp] Building in /home/zzoyelam/anaconda3/share/jupyter/lab\n",
      "[LabBuildApp] Building jupyterlab assets (build:prod:minimize)\n",
      "[LabBuildApp] WARNING | The extension \"@jupyterlab/plotly-extension\" is outdated.\n",
      "\n",
      "Build failed.\n",
      "Troubleshooting: If the build failed due to an out-of-memory error, you\n",
      "may be able to fix it by disabling the `dev_build` and/or `minimize` options.\n",
      "\n",
      "If you are building via the `jupyter lab build` command, you can disable\n",
      "these options like so:\n",
      "\n",
      "jupyter lab build --dev-build=False --minimize=False\n",
      "\n",
      "You can also disable these options for all JupyterLab builds by adding these\n",
      "lines to a Jupyter config file named `jupyter_config.py`:\n",
      "\n",
      "c.LabBuildApp.minimize = False\n",
      "c.LabBuildApp.dev_build = False\n",
      "\n",
      "If you don't already have a `jupyter_config.py` file, you can create one by\n",
      "adding a blank file of that name to any of the Jupyter config directories.\n",
      "The config directories can be listed by running:\n",
      "\n",
      "jupyter --paths\n",
      "\n",
      "Explanation:\n",
      "\n",
      "- `dev-build`: This option controls whether a `dev` or a more streamlined\n",
      "`production` build is used. This option will default to `False` (ie the\n",
      "`production` build) for most users. However, if you have any labextensions\n",
      "installed from local files, this option will instead default to `True`.\n",
      "Explicitly setting `dev-build` to `False` will ensure that the `production`\n",
      "build is used in all circumstances.\n",
      "\n",
      "- `minimize`: This option controls whether your JS bundle is minified\n",
      "during the Webpack build, which helps to improve JupyterLab's overall\n",
      "performance. However, the minifier plugin used by Webpack is very memory\n",
      "intensive, so turning it off may help the build finish successfully in\n",
      "low-memory environments.\n",
      "\n",
      "An error occured.\n",
      "RuntimeError: JupyterLab failed to build\n",
      "See the log file for details:  /tmp/jupyterlab-debug-yas7mfph.log\n"
     ]
    }
   ],
   "source": [
    "!jupyter lab build"
   ]
  },
  {
   "cell_type": "code",
   "execution_count": null,
   "metadata": {},
   "outputs": [
    {
     "name": "stdout",
     "output_type": "stream",
     "text": [
      "\u001b[?2004h\u001b7\u001b[?47h\u001b[?1h\u001b=\u001b[?2004h\u001b[1;24r\u001b[?12h\u001b[?12l\u001b[29m\u001b[m\u001b[H\u001b[2J\u001b[?25l\u001b[24;1H\"/tmp/jupyterlab-debug-yas7mfph.log\" 220L, 20866C\u001b[2;1H▽\u001b[6n\u001b[2;1H  \u001b[1;1H\u001b[>c\u001b]10;?\u0007\u001b]11;?\u0007\u001b[1;1H\u001b[46m[\u001b[mLabBuildApp\u001b[46m]\u001b[m Building in /home/zzoyelam/anaconda3/share/jupyter/lab\n",
      "[LabBuildApp] Node v11.14.0\n",
      "\n",
      "[LabBuildApp] Yarn configuration loaded.\n",
      "[LabBuildApp] Building jupyterlab assets (build:prod:minimize)\n",
      "[LabBuildApp] WARNING | The extension \"@jupyterlab/plotly-extension\" is outdatedd\u001b[7;1H.\n",
      "\n",
      "[LabBuildApp] > node /home/zzoyelam/anaconda3/lib/python3.7/site-packages/jupytee\u001b[10;1Hrlab/staging/yarn.js install --non-interactive\n",
      "[LabBuildApp] yarn install v1.21.1\n",
      "[1/5] Validating package.json...\n",
      "[2/5] Resolving packages...\n",
      "warning jupyterlab-chart-editor > react-chart-editor > draft-js > fbjs > core-jss\u001b[15;1H@2.6.11: core-js@<3 is no longer maintained and not recommended for usage due too\u001b[16;1H the number of issues. Please, upgrade your dependencies to the actual version oo\u001b[17;1Hf core-js@3.\n",
      "warning jupyterlab-chart-editor > react-chart-editor > plotly.js > regl-splom >  \u001b[19;1Hleft-pad@1.3.0: use String.prototype.padStart()\n",
      "warning jupyterlab-chart-editor > react-chart-editor > plotly.js > point-clusterr\u001b[21;1H > bubleify > buble > os-homedir@2.0.0: This is not needed anymore. Use `requiree\u001b[22;1H('os').homedir()` instead.\n",
      "[3/5] Fetching packages...\u001b[24;63H1,1\u001b[11CTop\u001b[1;1H\u001b[?25h"
     ]
    }
   ],
   "source": [
    "!vim /tmp/jupyterlab-debug-yas7mfph.log"
   ]
  },
  {
   "cell_type": "code",
   "execution_count": null,
   "metadata": {},
   "outputs": [],
   "source": []
  }
 ],
 "metadata": {
  "kernelspec": {
   "display_name": "Python 3",
   "language": "python",
   "name": "python3"
  },
  "language_info": {
   "codemirror_mode": {
    "name": "ipython",
    "version": 3
   },
   "file_extension": ".py",
   "mimetype": "text/x-python",
   "name": "python",
   "nbconvert_exporter": "python",
   "pygments_lexer": "ipython3",
   "version": "3.7.3"
  }
 },
 "nbformat": 4,
 "nbformat_minor": 4
}
